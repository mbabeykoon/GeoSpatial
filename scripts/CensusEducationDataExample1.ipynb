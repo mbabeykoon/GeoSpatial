{
 "cells": [
  {
   "cell_type": "code",
   "execution_count": null,
   "metadata": {},
   "outputs": [],
   "source": [
    "# Import necessary libraries\n",
    "import os\n",
    "import re\n",
    "import pandas as pd\n",
    "import geopandas as gpd\n",
    "import leafmap.foliumap as leafmap\n",
    "from geopy.geocoders import Nominatim\n",
    "from geopy.extra.rate_limiter import RateLimiter\n",
    "from zipfile import ZipFile\n",
    "import geopy \n",
    "import geocoder \n",
    "import ipywidgets\n",
    "from folium import plugins "
   ]
  },
  {
   "cell_type": "code",
   "execution_count": null,
   "metadata": {},
   "outputs": [],
   "source": [
    "# Load the shapefile and education  data, and merge them\n",
    "gdf = gpd.read_file('../shapefiles/cb_2018_us_county_500k.shp')\n",
    "education_data = pd.read_csv('../data/EducationAge18_24.csv')\n",
    "merged_gdf = gdf.merge(education_data, left_on='AFFGEOID', right_on='Geography')"
   ]
  },
  {
   "cell_type": "code",
   "execution_count": null,
   "metadata": {},
   "outputs": [],
   "source": [
    "import geopandas as gpd\n",
    "import plotly.express as px\n",
    "import json\n",
    "\n",
    "# Assuming merged_gdf is already defined and is a GeoDataFrame\n",
    "\n",
    "# Convert GeoDataFrame to JSON\n",
    "json_data = merged_gdf.geometry.to_json()\n",
    "\n",
    "# Convert GeoJSON to dictionary (which is compatible with plotly)\n",
    "geojson = json.loads(json_data)\n",
    "\n",
    "\n",
    "\n",
    "# Create interactive plot with plotly\n",
    "fig = px.choropleth_mapbox(\n",
    "    merged_gdf,\n",
    "    geojson=geojson,\n",
    "    locations=merged_gdf.index,  # Use the column with county names\n",
    "    # featureidkey='properties.AFFGEOID',  # Corrected feature ID key\n",
    "    color='Highschool graduate Percentage',\n",
    "    color_continuous_scale=\"Jet\",  # Use a blue color scale\n",
    "    mapbox_style=\"carto-positron\",\n",
    "    zoom=3,\n",
    "    center={\"lat\": 37.0902, \"lon\": -95.7129},\n",
    "    opacity=0.5,\n",
    "    hover_name='NAME',\n",
    "\n",
    "    hover_data={\n",
    "        # 'NAME': 'Ture',  # We already see this in the tooltip by default\n",
    "        'Sum of Population(18-24)': ':,.0f',  # Format as an integer\n",
    "        'Sum of Bachelor\\'s degree or higher': ':,.0f',  # Format as an integer\n",
    "        'Sum of High school graduate (includes equivalency)': ':,.0f',  # Format as an integer\n",
    "        'Sum of Less than high school graduate': ':,.0f',  # Format as an integer\n",
    "        'Sum of Some college or associate\\'s degree': ':,.0f'  # Format as an integer\n",
    "    },\n",
    "    labels={  # Shorter labels for the hover tooltip\n",
    "        # 'NAME':'County',\n",
    "        'Sum of Population(18-24)': 'Population(18-24)',\n",
    "        'Sum of Bachelor\\'s degree or higher': 'Bachelors+',\n",
    "        'Sum of High school graduate (includes equivalency)': 'HS Grad',\n",
    "        'Sum of Less than high school graduate': '<HS Grad',\n",
    "        'Sum of Some college or associate\\'s degree': 'College/Assoc.'\n",
    "    }\n",
    ")\n",
    "\n",
    "# Adjust color bar size\n",
    "fig.update_layout(coloraxis_colorbar=dict(\n",
    "    title='Highschool Graduate precentage among Age (18-24) in 2020',\n",
    "    thicknessmode=\"pixels\", thickness=10,\n",
    "    lenmode=\"pixels\", len=200\n",
    "))\n",
    "\n",
    "# Hide the axis ticks and labels\n",
    "fig.update_layout(margin={\"r\":0,\"t\":0,\"l\":0,\"b\":0})\n",
    "\n",
    "# Show the figure\n",
    "fig.show()\n"
   ]
  }
 ],
 "metadata": {
  "kernelspec": {
   "display_name": "geo_env",
   "language": "python",
   "name": "python3"
  },
  "language_info": {
   "codemirror_mode": {
    "name": "ipython",
    "version": 3
   },
   "file_extension": ".py",
   "mimetype": "text/x-python",
   "name": "python",
   "nbconvert_exporter": "python",
   "pygments_lexer": "ipython3",
   "version": "3.12.0"
  }
 },
 "nbformat": 4,
 "nbformat_minor": 2
}
