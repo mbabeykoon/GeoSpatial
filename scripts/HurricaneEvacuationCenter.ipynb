{
 "cells": [
  {
   "cell_type": "code",
   "execution_count": null,
   "metadata": {},
   "outputs": [],
   "source": [
    "# Import necessary libraries\n",
    "import os\n",
    "import re\n",
    "import pandas as pd\n",
    "import geopandas as gpd\n",
    "import leafmap.foliumap as leafmap\n",
    "from geopy.geocoders import Nominatim\n",
    "from geopy.extra.rate_limiter import RateLimiter\n",
    "from zipfile import ZipFile"
   ]
  },
  {
   "cell_type": "code",
   "execution_count": null,
   "metadata": {},
   "outputs": [],
   "source": [
    "# Define the names of the directories to be created\n",
    "data_folder = 'data'\n",
    "output_folder = 'output'\n",
    "\n",
    "# Check if the directory exists; if not, create it\n",
    "if not os.path.exists(data_folder):\n",
    "    os.mkdir(data_folder)\n",
    "if not os.path.exists(output_folder):\n",
    "    os.mkdir(output_folder)"
   ]
  },
  {
   "cell_type": "code",
   "execution_count": null,
   "metadata": {},
   "outputs": [],
   "source": [
    "# Function to download data\n",
    "def download(url):\n",
    "    filename = os.path.join(data_folder, os.path.basename(url))\n",
    "    if not os.path.exists(filename):\n",
    "        from urllib.request import urlretrieve\n",
    "        local, _ = urlretrieve(url, filename)\n",
    "        print('Downloaded ' + local)\n",
    "\n",
    "\n",
    "# Call the download function with the specified URL\n",
    "download('https://github.com/spatialthoughts/python-tutorials/raw/main/data/' +\n",
    "         'Hurricane_Evacuation_Centers.xlsx')"
   ]
  },
  {
   "cell_type": "code",
   "execution_count": null,
   "metadata": {},
   "outputs": [],
   "source": [
    "# Load hurricane evacuation center data\n",
    "excel_file = 'Hurricane_Evacuation_Centers.xlsx'\n",
    "excel_file_path = os.path.join(data_folder, excel_file)\n",
    "address_df = pd.read_excel(excel_file_path, skiprows=[0])\n",
    "address_df"
   ]
  },
  {
   "cell_type": "code",
   "execution_count": null,
   "metadata": {},
   "outputs": [],
   "source": [
    "def make_ordinal(match):\n",
    "    n = int(match.group(1))\n",
    "    if 11 <= (n % 100) <= 13:\n",
    "        suffix = 'th'\n",
    "    else:\n",
    "        suffix = ['th', 'st', 'nd', 'rd', 'th'][min(n % 10, 4)]\n",
    "    return str(n) + suffix + match.group(2)\n",
    "\n",
    "def update_address(row):\n",
    "  old_address = row['ADDRESS']\n",
    "  pattern = r'(\\d+)(\\s+(?:Street|Avenue|Blvd|Drive))'\n",
    "  result = re.sub(pattern, make_ordinal, old_address)\n",
    "  return result\n",
    "\n",
    "address_df['ADDRESS_FIXED'] = address_df.apply(update_address, axis=1)\n",
    "address_df"
   ]
  },
  {
   "cell_type": "code",
   "execution_count": null,
   "metadata": {},
   "outputs": [],
   "source": [
    "address_df['Full_Address'] = (\n",
    "    address_df['ADDRESS_FIXED'] + ',' +\n",
    "    'NYC' + ',' +\n",
    "    address_df['STATE']+ ',' +\n",
    "    address_df['ZIP_CODE'].astype(str))\n",
    "address_df"
   ]
  },
  {
   "cell_type": "code",
   "execution_count": null,
   "metadata": {},
   "outputs": [],
   "source": [
    "from tqdm.notebook import tqdm\n",
    "\n",
    "tqdm.pandas()\n",
    "\n",
    "locator = Nominatim(user_agent='spatialthoughts', timeout=10)\n",
    "geocode = RateLimiter(locator.geocode, min_delay_seconds=1)\n",
    "\n",
    "address_df_pd = address_df.copy()\n",
    "address_df_pd['location'] = address_df_pd['Full_Address'].progress_apply(geocode)\n",
    "address_df_pd"
   ]
  },
  {
   "cell_type": "code",
   "execution_count": null,
   "metadata": {},
   "outputs": [],
   "source": [
    "address_df_pd['latitude'] = address_df_pd['location'].apply(lambda loc: loc.latitude if loc else None)\n",
    "address_df_pd['longitude'] = address_df_pd['location'].apply(lambda loc: loc.longitude if loc else None)\n",
    "address_df_pd"
   ]
  },
  {
   "cell_type": "code",
   "execution_count": null,
   "metadata": {},
   "outputs": [],
   "source": [
    "failed = address_df_pd[address_df_pd['location'].isna()]\n",
    "failed"
   ]
  },
  {
   "cell_type": "code",
   "execution_count": null,
   "metadata": {},
   "outputs": [],
   "source": [
    "address_df_pd.loc[54, ['latitude', 'longitude']] = (40.85339,-73.93350)"
   ]
  },
  {
   "cell_type": "code",
   "execution_count": null,
   "metadata": {},
   "outputs": [],
   "source": [
    "address_df_pd = address_df_pd[['EC_Name', 'Full_Address', 'latitude', 'longitude']]\n",
    "address_df_pd.rename(columns = {'EC_Name': 'Name', 'Full_Address': 'Address'}, inplace=True)"
   ]
  },
  {
   "cell_type": "code",
   "execution_count": null,
   "metadata": {},
   "outputs": [],
   "source": [
    "geometry = gpd.points_from_xy(address_df_pd.longitude, address_df_pd.latitude)\n",
    "address_gdf = gpd.GeoDataFrame(address_df_pd, crs='EPSG:4326', geometry=geometry)\n",
    "address_gdf"
   ]
  },
  {
   "cell_type": "code",
   "execution_count": null,
   "metadata": {},
   "outputs": [],
   "source": [
    "import folium\n",
    "m = leafmap.Map(width=800, height=500)\n",
    "address_gdf.explore(\n",
    "    m=m,\n",
    "    marker_type='marker',\n",
    "    marker_kwds={\n",
    "        'icon': folium.Icon(color='#fdbb84', icon='hurricane', prefix='fa')\n",
    "    }\n",
    ")\n",
    "m.zoom_to_gdf(address_gdf)\n",
    "m"
   ]
  },
  {
   "cell_type": "code",
   "execution_count": null,
   "metadata": {},
   "outputs": [],
   "source": [
    "output_file = 'hurricane_evacuation_centers.shp'\n",
    "output_path = os.path.join(output_folder, output_file)\n",
    "\n",
    "address_gdf.to_file(filename=output_path)"
   ]
  },
  {
   "cell_type": "code",
   "execution_count": null,
   "metadata": {},
   "outputs": [],
   "source": [
    "output_zip_file = 'hurricane_evacuation_centers.zip'\n",
    "output_zip_path = os.path.join(output_folder, output_zip_file)\n",
    "\n",
    "sidecar_files = [\n",
    "    os.path.join(output_folder, file)\n",
    "    for file in os.listdir(output_folder)\n",
    "    if file.endswith(('shp', 'shx', 'dbf', 'prj'))\n",
    "]\n",
    "\n",
    "with ZipFile(output_zip_path, 'w') as zip_object:\n",
    "    for sidecar in sidecar_files:\n",
    "      zip_object.write(sidecar, os.path.basename(sidecar))"
   ]
  }
 ],
 "metadata": {
  "kernelspec": {
   "display_name": "gs",
   "language": "python",
   "name": "python3"
  },
  "language_info": {
   "codemirror_mode": {
    "name": "ipython",
    "version": 3
   },
   "file_extension": ".py",
   "mimetype": "text/x-python",
   "name": "python",
   "nbconvert_exporter": "python",
   "pygments_lexer": "ipython3",
   "version": "3.12.0"
  }
 },
 "nbformat": 4,
 "nbformat_minor": 2
}
